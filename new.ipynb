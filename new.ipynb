{
  "cells": [
    {
      "cell_type": "markdown",
      "metadata": {
        "id": "view-in-github",
        "colab_type": "text"
      },
      "source": [
        "<a href=\"https://colab.research.google.com/github/YDKDevelop/yquantum-2025/blob/main/new.ipynb\" target=\"_parent\"><img src=\"https://colab.research.google.com/assets/colab-badge.svg\" alt=\"Open In Colab\"/></a>"
      ]
    },
    {
      "cell_type": "markdown",
      "id": "53a75edc",
      "metadata": {
        "id": "53a75edc"
      },
      "source": [
        "As the main goal of this challenge, you are expected to create a hash function based on quantum simulation. Your hash function's performance evaluation will be based on the following criteria:\n",
        "\n",
        "1. Output determinism\n",
        "2. Preservation of entropy\n",
        "3. Computational difficulty\n",
        "4. Preimage resistance\n",
        "5. Collision resistance\n",
        "6. Computational feasibility\n",
        "7. Computation time\n",
        "8. Purely quantum hashing\n",
        "\n",
        "Their meaning will be demonstrated on a simple (and very bad) hash function."
      ]
    },
    {
      "cell_type": "markdown",
      "source": [],
      "metadata": {
        "id": "pBDRLevvd0EF"
      },
      "id": "pBDRLevvd0EF"
    },
    {
      "cell_type": "code",
      "source": [
        "!pip install qiskit\n",
        "!pip install qiskit matplotlib"
      ],
      "metadata": {
        "id": "g64-Hc7LgrlS",
        "outputId": "789a63e9-6e93-493b-e65b-89d8dbaf026f",
        "colab": {
          "base_uri": "https://localhost:8080/"
        }
      },
      "id": "g64-Hc7LgrlS",
      "execution_count": 15,
      "outputs": [
        {
          "output_type": "stream",
          "name": "stdout",
          "text": [
            "Requirement already satisfied: qiskit in /usr/local/lib/python3.11/dist-packages (2.0.0)\n",
            "Requirement already satisfied: rustworkx>=0.15.0 in /usr/local/lib/python3.11/dist-packages (from qiskit) (0.16.0)\n",
            "Requirement already satisfied: numpy<3,>=1.17 in /usr/local/lib/python3.11/dist-packages (from qiskit) (2.0.2)\n",
            "Requirement already satisfied: scipy>=1.5 in /usr/local/lib/python3.11/dist-packages (from qiskit) (1.14.1)\n",
            "Requirement already satisfied: sympy>=1.3 in /usr/local/lib/python3.11/dist-packages (from qiskit) (1.13.1)\n",
            "Requirement already satisfied: dill>=0.3 in /usr/local/lib/python3.11/dist-packages (from qiskit) (0.3.9)\n",
            "Requirement already satisfied: python-dateutil>=2.8.0 in /usr/local/lib/python3.11/dist-packages (from qiskit) (2.8.2)\n",
            "Requirement already satisfied: stevedore>=3.0.0 in /usr/local/lib/python3.11/dist-packages (from qiskit) (5.4.1)\n",
            "Requirement already satisfied: typing-extensions in /usr/local/lib/python3.11/dist-packages (from qiskit) (4.13.1)\n",
            "Requirement already satisfied: symengine<0.14,>=0.11 in /usr/local/lib/python3.11/dist-packages (from qiskit) (0.13.0)\n",
            "Requirement already satisfied: six>=1.5 in /usr/local/lib/python3.11/dist-packages (from python-dateutil>=2.8.0->qiskit) (1.17.0)\n",
            "Requirement already satisfied: pbr>=2.0.0 in /usr/local/lib/python3.11/dist-packages (from stevedore>=3.0.0->qiskit) (6.1.1)\n",
            "Requirement already satisfied: mpmath<1.4,>=1.1.0 in /usr/local/lib/python3.11/dist-packages (from sympy>=1.3->qiskit) (1.3.0)\n",
            "Requirement already satisfied: setuptools in /usr/local/lib/python3.11/dist-packages (from pbr>=2.0.0->stevedore>=3.0.0->qiskit) (75.2.0)\n",
            "Requirement already satisfied: qiskit in /usr/local/lib/python3.11/dist-packages (2.0.0)\n",
            "Requirement already satisfied: matplotlib in /usr/local/lib/python3.11/dist-packages (3.10.0)\n",
            "Requirement already satisfied: rustworkx>=0.15.0 in /usr/local/lib/python3.11/dist-packages (from qiskit) (0.16.0)\n",
            "Requirement already satisfied: numpy<3,>=1.17 in /usr/local/lib/python3.11/dist-packages (from qiskit) (2.0.2)\n",
            "Requirement already satisfied: scipy>=1.5 in /usr/local/lib/python3.11/dist-packages (from qiskit) (1.14.1)\n",
            "Requirement already satisfied: sympy>=1.3 in /usr/local/lib/python3.11/dist-packages (from qiskit) (1.13.1)\n",
            "Requirement already satisfied: dill>=0.3 in /usr/local/lib/python3.11/dist-packages (from qiskit) (0.3.9)\n",
            "Requirement already satisfied: python-dateutil>=2.8.0 in /usr/local/lib/python3.11/dist-packages (from qiskit) (2.8.2)\n",
            "Requirement already satisfied: stevedore>=3.0.0 in /usr/local/lib/python3.11/dist-packages (from qiskit) (5.4.1)\n",
            "Requirement already satisfied: typing-extensions in /usr/local/lib/python3.11/dist-packages (from qiskit) (4.13.1)\n",
            "Requirement already satisfied: symengine<0.14,>=0.11 in /usr/local/lib/python3.11/dist-packages (from qiskit) (0.13.0)\n",
            "Requirement already satisfied: contourpy>=1.0.1 in /usr/local/lib/python3.11/dist-packages (from matplotlib) (1.3.1)\n",
            "Requirement already satisfied: cycler>=0.10 in /usr/local/lib/python3.11/dist-packages (from matplotlib) (0.12.1)\n",
            "Requirement already satisfied: fonttools>=4.22.0 in /usr/local/lib/python3.11/dist-packages (from matplotlib) (4.57.0)\n",
            "Requirement already satisfied: kiwisolver>=1.3.1 in /usr/local/lib/python3.11/dist-packages (from matplotlib) (1.4.8)\n",
            "Requirement already satisfied: packaging>=20.0 in /usr/local/lib/python3.11/dist-packages (from matplotlib) (24.2)\n",
            "Requirement already satisfied: pillow>=8 in /usr/local/lib/python3.11/dist-packages (from matplotlib) (11.1.0)\n",
            "Requirement already satisfied: pyparsing>=2.3.1 in /usr/local/lib/python3.11/dist-packages (from matplotlib) (3.2.3)\n",
            "Requirement already satisfied: six>=1.5 in /usr/local/lib/python3.11/dist-packages (from python-dateutil>=2.8.0->qiskit) (1.17.0)\n",
            "Requirement already satisfied: pbr>=2.0.0 in /usr/local/lib/python3.11/dist-packages (from stevedore>=3.0.0->qiskit) (6.1.1)\n",
            "Requirement already satisfied: mpmath<1.4,>=1.1.0 in /usr/local/lib/python3.11/dist-packages (from sympy>=1.3->qiskit) (1.3.0)\n",
            "Requirement already satisfied: setuptools in /usr/local/lib/python3.11/dist-packages (from pbr>=2.0.0->stevedore>=3.0.0->qiskit) (75.2.0)\n"
          ]
        }
      ]
    },
    {
      "cell_type": "code",
      "source": [
        "import math\n",
        "import numpy as np\n",
        "import matplotlib.pyplot as plt\n",
        "import random\n",
        "import timeit\n",
        "from qiskit import QuantumCircuit\n",
        "from qiskit.quantum_info import Statevector\n",
        "from qiskit.quantum_info.operators import Pauli\n",
        "from qiskit.visualization import plot_bloch_multivector\n",
        "\n",
        "\n",
        "# Constants\n",
        "NUM_QUBITS = 16\n",
        "NUM_LAYERS = 2             # From the paper Designing Hash and Encryption Engines using Quantum Computing\n",
        "TOTAL_BITS = 16            # Number of bits per expectation value\n",
        "FRACTION_BITS = 15         # Precision within each fixed-point\n",
        "\n",
        "def toFixed(x: float) -> int:\n",
        "    \"\"\"Convert float to fixed-point integer.\"\"\"\n",
        "    fraction_mult = 1 << FRACTION_BITS\n",
        "    return int(x * fraction_mult + (0.5 if x >= 0 else -0.5))\n",
        "\n",
        "def bytes_to_angles(input_bytes: bytes) -> list[float]:\n",
        "    \"\"\"Convert 256-bit input (32 bytes) into 2π-scaled rotation angles.\"\"\"\n",
        "    assert len(input_bytes) == 32, \"Input must be 256 bits (32 bytes)\"\n",
        "    return [(b / 255.0) * 2 * math.pi for b in input_bytes]\n",
        "\n",
        "def build_quantum_hash_circuit(angles: list[float]) -> QuantumCircuit:\n",
        "    \"\"\"Build a 16-qubit, 4-layer PQC circuit using parameterized rotations.\"\"\"\n",
        "    qc = QuantumCircuit(NUM_QUBITS)\n",
        "\n",
        "    angle_chunks = np.array_split(angles, NUM_LAYERS)\n",
        "\n",
        "    for layer_idx, chunk in enumerate(angle_chunks):\n",
        "        for i in range(NUM_QUBITS):\n",
        "            angle = chunk[i % len(chunk)]\n",
        "            if layer_idx % 2 == 0:\n",
        "                qc.rx(angle, i)\n",
        "            else:\n",
        "                qc.ry(angle, i)\n",
        "\n",
        "        # Entanglement pattern (nearest neighbor + CZ cross links)\n",
        "        for i in range(NUM_QUBITS - 1):\n",
        "            qc.cx(i, i + 1)\n",
        "        if layer_idx % 2 == 0:\n",
        "            for i in range(0, NUM_QUBITS - 2, 2):\n",
        "                qc.cz(i, i + 2)\n",
        "\n",
        "    return qc\n",
        "\n",
        "def quantum_hash(input_bytes: bytes) -> bytes:\n",
        "    \"\"\"Compute a 256-bit quantum hash of 32-byte input.\"\"\"\n",
        "    angles = bytes_to_angles(input_bytes)\n",
        "    qc = build_quantum_hash_circuit(angles)\n",
        "    sv = Statevector.from_instruction(qc)\n",
        "\n",
        "    # Measure expectation values (Z-basis)\n",
        "    exps = [sv.expectation_value(Pauli(\"Z\"), [i]).real for i in range(NUM_QUBITS)]\n",
        "    fixed_exps = [toFixed(exp) for exp in exps]\n",
        "\n",
        "    # Convert to 256-bit hash (16 values × 16 bits = 256 bits)\n",
        "    output_bytes = []\n",
        "    for fixed in fixed_exps:\n",
        "        for j in range(TOTAL_BITS // 8):\n",
        "            output_bytes.append((fixed >> (8 * j)) & 0xFF)\n",
        "\n",
        "    return bytes(output_bytes)\n",
        "\n",
        "# Example: Hash for input 222\n",
        "num = 222\n",
        "input_bytes = num.to_bytes(32, byteorder='big')\n",
        "hash_output = quantum_hash(input_bytes)\n",
        "print(\"Hash for input 222:\", hash_output.hex())\n",
        "print(\"Total Time:\", timeit.timeit(lambda: quantum_hash(input_bytes), number=1))\n",
        "\n",
        "# # ------------------------------\n",
        "# # Generate a distribution from many random inputs\n",
        "# # ------------------------------\n",
        "\n",
        "# num_samples = 100  # number of random inputs to generate\n",
        "# all_fixed_values = []  # collect each of the 16 fixed-point values for each hash\n",
        "\n",
        "# for _ in range(num_samples):\n",
        "#     # Generate a random 32-byte input.\n",
        "#     input_bytes = bytes(random.randint(0, 255) for _ in range(32))\n",
        "#     # Compute hash (we only need the fixed_exps; you can also call quantum_hash() if desired)\n",
        "#     angles = bytes_to_angles(input_bytes)\n",
        "#     qc = build_quantum_hash_circuit(angles)\n",
        "#     sv = Statevector.from_instruction(qc)\n",
        "#     exps = [sv.expectation_value(Pauli(\"Z\"), [i]).real for i in range(NUM_QUBITS)]\n",
        "#     fixed_exps = [toFixed(exp) for exp in exps]\n",
        "#     all_fixed_values.extend(fixed_exps)\n",
        "\n",
        "# # Plotting the histogram:\n",
        "# plt.figure(figsize=(10,6))\n",
        "# plt.hist(all_fixed_values, bins=50, edgecolor='black')\n",
        "# plt.xlabel(\"Fixed-point value (per qubit expectation)\")\n",
        "# plt.ylabel(\"Frequency\")\n",
        "# plt.title(\"Distribution of Fixed-point Values from Quantum Hash Outputs\\n(Collected over {} random inputs)\".format(num_samples))\n",
        "# plt.show()\n"
      ],
      "metadata": {
        "id": "L0r9-aiId4qV",
        "outputId": "3d19dedc-6559-416a-8fde-587686db6336",
        "colab": {
          "base_uri": "https://localhost:8080/"
        }
      },
      "id": "L0r9-aiId4qV",
      "execution_count": 22,
      "outputs": [
        {
          "output_type": "stream",
          "name": "stdout",
          "text": [
            "Hash for input 222: 008000800080008000800080008000800080008000800080008000800080f757\n",
            "Total Time: 0.07459608299996034\n"
          ]
        }
      ]
    },
    {
      "cell_type": "code",
      "source": [
        "# import math\n",
        "# from qiskit import QuantumCircuit\n",
        "# from qiskit.circuit import Parameter\n",
        "# from qiskit.quantum_info import Statevector\n",
        "# from qiskit.quantum_info.operators import Pauli\n",
        "\n",
        "# TOTAL_BITS = 16\n",
        "# FRACTION_BITS = 15\n",
        "\n",
        "# # convert a float expectation to fixed-point\n",
        "# def toFixed(x: float) -> int:\n",
        "#     fraction_mult = 1 << FRACTION_BITS\n",
        "#     return int(x * fraction_mult + (0.5 if x >= 0 else -0.5))\n",
        "\n",
        "\n",
        "# NUM_QUBITS = 16\n",
        "# NUM_LAYERS = 2\n",
        "\n",
        "# # build the parameterized quantum circuit.\n",
        "# qc = QuantumCircuit(NUM_QUBITS)\n",
        "# params = []\n",
        "# for l in range(NUM_LAYERS):\n",
        "#     # add parameterized RY rotation gates\n",
        "#     for i in range(NUM_QUBITS):\n",
        "#         theta = Parameter(f\"theta_ry_{l}_{i}\")\n",
        "#         params.append(theta)\n",
        "#         qc.ry(theta, i)\n",
        "#     # add parameterized RX rotation gates\n",
        "#     for i in range(NUM_QUBITS):\n",
        "#         theta = Parameter(f\"theta_rz_{l}_{i}\")\n",
        "#         params.append(theta)\n",
        "#         qc.rz(theta, i)\n",
        "#     # add CNOT entangling gates\n",
        "#     for i in range(NUM_QUBITS - 1):\n",
        "#         qc.cx(i, i + 1)\n",
        "# num_params = len(params)\n",
        "\n",
        "\n",
        "# # Quantum simulation portion of the qhash\n",
        "# # x - 256-bit byte array\n",
        "# # returns the hash value as a 256-bit byte array\n",
        "# def qhash(x: bytes) -> bytes:\n",
        "#     # create a dictionary mapping each parameter to its value.\n",
        "#     param_values = {}\n",
        "#     for i in range(num_params):\n",
        "#         # extract a nibble (4 bits) from the input\n",
        "#         nibble = (x[i // 2] >> (4 * (1 - (i % 2)))) & 0x0F\n",
        "#         # scale it to use as a rotation angle parameter\n",
        "#         value = nibble * math.pi / 8\n",
        "#         param_values[params[i]] = value\n",
        "\n",
        "#     # bind the parameters to the circuit.\n",
        "#     bound_qc = qc.assign_parameters(param_values)\n",
        "\n",
        "#     # prepare the state vector from the bound circuit\n",
        "#     sv = Statevector.from_instruction(bound_qc)\n",
        "#     # calculate the qubit expectations on the Z axis\n",
        "#     exps = [sv.expectation_value(Pauli(\"Z\"), [i]).real for i in range(NUM_QUBITS)]\n",
        "#     # convert the expectations to the fixed-point values\n",
        "#     fixed_exps = [toFixed(exp) for exp in exps]\n",
        "\n",
        "#     # pack the fixed-point results into a byte list.\n",
        "#     data = []\n",
        "#     for fixed in fixed_exps:\n",
        "#         for i in range(TOTAL_BITS // 8):\n",
        "#             data.append((fixed >> (8 * i)) & 0xFF)\n",
        "\n",
        "#     return bytes(data)"
      ],
      "metadata": {
        "id": "jS0hmX_LghHO"
      },
      "id": "jS0hmX_LghHO",
      "execution_count": 17,
      "outputs": []
    },
    {
      "cell_type": "markdown",
      "id": "aec27eff",
      "metadata": {
        "id": "aec27eff"
      },
      "source": [
        "The following hash function uses one qubit per one byte of input and applies the RX gates with the angles proportional to the bytes' values:"
      ]
    },
    {
      "cell_type": "code",
      "execution_count": 18,
      "id": "d8292cf4",
      "metadata": {
        "id": "d8292cf4"
      },
      "outputs": [],
      "source": [
        "# from qiskit import QuantumCircuit\n",
        "# from qiskit.quantum_info import Pauli, Statevector\n",
        "# import numpy as np\n",
        "\n",
        "# def simple_quantum_hash(input_bytes: bytes):\n",
        "#     num_qubits = len(input_bytes)\n",
        "#     qc = QuantumCircuit(num_qubits)\n",
        "#     for i in range(num_qubits):\n",
        "#         angle = (input_bytes[i] / 255) * np.pi  # scale to [0, π]\n",
        "#         qc.rx(angle, i)\n",
        "\n",
        "#     sv = Statevector.from_instruction(qc)\n",
        "#     exp_vals = [sv.expectation_value(Pauli(\"Z\"), [i]).real for i in range(num_qubits)]\n",
        "\n",
        "#     # Map each expectation value from [-1, 1] to an 8-bit integer in [0, 255].\n",
        "#     output_bytes = bytearray([min(int(((val + 1) / 2) * 256), 255) for val in exp_vals])\n",
        "\n",
        "#     return output_bytes"
      ]
    },
    {
      "cell_type": "markdown",
      "id": "ea0e99f6",
      "metadata": {
        "id": "ea0e99f6"
      },
      "source": [
        "At the very least, this function meets 2 of our most straightforward requirements. Firstly, it consistently produces the same output for a given input, satisfying the 'Output determinism' constraint, and, secondly, it does not use any classical hashing algorithms as required by the 'Purely classical hashing' point."
      ]
    },
    {
      "cell_type": "markdown",
      "id": "13e18616",
      "metadata": {
        "id": "13e18616"
      },
      "source": [
        "Let's now see what output our hash function produces for some simple inputs:"
      ]
    },
    {
      "cell_type": "code",
      "execution_count": 19,
      "id": "0020447a",
      "metadata": {
        "id": "0020447a"
      },
      "outputs": [],
      "source": [
        "# print(list(simple_quantum_hash(bytes(range(0, 260, 20)))))"
      ]
    },
    {
      "cell_type": "markdown",
      "id": "652116ad",
      "metadata": {
        "id": "652116ad"
      },
      "source": [
        "As you might've already deduced from the function definition, it basically calculates shifted and quantized cosine value for each of the input bytes. Unfortunately this fails to pass the 'Computational difficulty' requirement, as it is trivial to implement the same function without using any quantum simulators and such function would run in linear time with respect to the input length. This also makes finding the preimage of a given hash output an easy task, making it a cryptographically-poor hash function that is non-compliant with the 'Preimage resistance' criteria."
      ]
    },
    {
      "cell_type": "markdown",
      "id": "03561154",
      "metadata": {
        "id": "03561154"
      },
      "source": [
        "Since the cosine itself is a bijection from the domain of [0, π] to the codomain of [-1, 1] the hash collisions can only be possible due to the quantization. The easiest way to find such collisions is to look at the values closest to the minimum and maximum of a single byte range, where the derivative of the cosine is small:"
      ]
    },
    {
      "cell_type": "code",
      "execution_count": 20,
      "id": "af9b2307",
      "metadata": {
        "id": "af9b2307"
      },
      "outputs": [],
      "source": [
        "# print(list(simple_quantum_hash(bytes(range(0, 20)))))\n",
        "# print(list(simple_quantum_hash(bytes(range(236, 256)))))"
      ]
    },
    {
      "cell_type": "markdown",
      "id": "e3abc295",
      "metadata": {
        "id": "e3abc295"
      },
      "source": [
        "As you can see, there is plenty of byte collisions to be found in those regions. As a result, using this hash algorithm would result in a higher collision rate when compared to its classical counterparts, making it unsuitable for production applications and failing the 'Collision resistance' constraint."
      ]
    },
    {
      "cell_type": "markdown",
      "id": "29414fb6",
      "metadata": {
        "id": "29414fb6"
      },
      "source": [
        "The last non-trivial requirement is the 'Preservation of entropy', which our function, yet again, does not pass. The reason for that is simple - the cosine is not a linear function. That means that feeding a large set of randomly-generated inputs to our function would result in its output bytes being more highly concentrated towards their maximum and minimum values (as was previously demonstrated) and failing to behave like a sample from a random distribution over the function's codomain. Furthermore, some of the byte values are not possible to obtain at all due to the quantization:"
      ]
    },
    {
      "cell_type": "code",
      "execution_count": 21,
      "id": "a9020e6f",
      "metadata": {
        "id": "a9020e6f"
      },
      "outputs": [],
      "source": [
        "# print(list(simple_quantum_hash(bytes(range(120, 135)))))"
      ]
    },
    {
      "cell_type": "markdown",
      "id": "1af002aa",
      "metadata": {
        "id": "1af002aa"
      },
      "source": [
        "Lastly, the provided hash function does not pass the 'Computational feasibility' requirement, since it would require to simulate a 32-qubit circuit to calculate a 256-bit hash, which is not feasible to do on general-purpose hardware. This also makes the 'Computation time' criteria irrelevant, even thogh the function only employs one gate per qubit which would lead to good performance if the number of qubits was decreased."
      ]
    }
  ],
  "metadata": {
    "kernelspec": {
      "display_name": "Python 3",
      "name": "python3"
    },
    "language_info": {
      "codemirror_mode": {
        "name": "ipython",
        "version": 3
      },
      "file_extension": ".py",
      "mimetype": "text/x-python",
      "name": "python",
      "nbconvert_exporter": "python",
      "pygments_lexer": "ipython3",
      "version": "3.13.0"
    },
    "colab": {
      "provenance": [],
      "gpuType": "T4",
      "include_colab_link": true
    }
  },
  "nbformat": 4,
  "nbformat_minor": 5
}